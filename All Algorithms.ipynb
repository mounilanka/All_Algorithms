{
 "cells": [
  {
   "cell_type": "code",
   "execution_count": 1,
   "id": "8085f77e",
   "metadata": {},
   "outputs": [],
   "source": [
    "import pandas as pd\n",
    "import numpy as np"
   ]
  },
  {
   "cell_type": "code",
   "execution_count": 2,
   "id": "93e9e0e8",
   "metadata": {},
   "outputs": [],
   "source": [
    "dataset = pd.read_csv(\"./iris.csv\", names=['sw', 'sl', 'pw', 'pl', 'target'])"
   ]
  },
  {
   "cell_type": "code",
   "execution_count": 3,
   "id": "403965bc",
   "metadata": {},
   "outputs": [
    {
     "name": "stdout",
     "output_type": "stream",
     "text": [
      "<class 'pandas.core.frame.DataFrame'>\n",
      "RangeIndex: 150 entries, 0 to 149\n",
      "Data columns (total 5 columns):\n",
      " #   Column  Non-Null Count  Dtype  \n",
      "---  ------  --------------  -----  \n",
      " 0   sw      150 non-null    float64\n",
      " 1   sl      150 non-null    float64\n",
      " 2   pw      150 non-null    float64\n",
      " 3   pl      150 non-null    float64\n",
      " 4   target  150 non-null    object \n",
      "dtypes: float64(4), object(1)\n",
      "memory usage: 6.0+ KB\n"
     ]
    }
   ],
   "source": [
    "dataset.info()"
   ]
  },
  {
   "cell_type": "code",
   "execution_count": 7,
   "id": "594bad5d",
   "metadata": {},
   "outputs": [],
   "source": [
    "features = dataset.iloc[:, :-1].values[:100]\n",
    "labels = dataset.iloc[:, -1].values[:100]"
   ]
  },
  {
   "cell_type": "code",
   "execution_count": 8,
   "id": "c9badbd0",
   "metadata": {},
   "outputs": [
    {
     "data": {
      "text/plain": [
       "(100, 2)"
      ]
     },
     "execution_count": 8,
     "metadata": {},
     "output_type": "execute_result"
    }
   ],
   "source": [
    "from sklearn.feature_selection import SelectKBest, chi2\n",
    "features = SelectKBest(chi2, k=2).fit_transform(features, labels)\n",
    "features.shape"
   ]
  },
  {
   "cell_type": "code",
   "execution_count": 9,
   "id": "fae28539",
   "metadata": {},
   "outputs": [],
   "source": [
    "from sklearn.preprocessing import LabelEncoder\n",
    "labels = LabelEncoder().fit_transform(labels)"
   ]
  },
  {
   "cell_type": "code",
   "execution_count": 10,
   "id": "01b9b417",
   "metadata": {},
   "outputs": [],
   "source": [
    "from sklearn.model_selection import train_test_split"
   ]
  },
  {
   "cell_type": "code",
   "execution_count": 11,
   "id": "9b4c8844",
   "metadata": {},
   "outputs": [],
   "source": [
    "X_train, X_test, y_train, y_test = train_test_split(features, labels)"
   ]
  },
  {
   "cell_type": "code",
   "execution_count": 12,
   "id": "a8ab19b1",
   "metadata": {},
   "outputs": [],
   "source": [
    "# X_train"
   ]
  },
  {
   "cell_type": "code",
   "execution_count": 13,
   "id": "049587fe",
   "metadata": {},
   "outputs": [],
   "source": [
    "#Metrics\n",
    "from sklearn.metrics import classification_report, confusion_matrix\n",
    "\n",
    "class metrics_:\n",
    "     \n",
    "    def __init__(self, y_test, y_pred):\n",
    "        self.y_test = y_test\n",
    "        self.y_pred = y_pred\n",
    "        \n",
    "    def cr(self):\n",
    "        print(classification_report(self.y_pred, self.y_test))\n",
    "        \n",
    "    def cm(self):\n",
    "        print(confusion_matrix(self.y_pred, self.y_test))"
   ]
  },
  {
   "cell_type": "markdown",
   "id": "42008cf0",
   "metadata": {},
   "source": [
    "ALGORITHMS"
   ]
  },
  {
   "cell_type": "code",
   "execution_count": 14,
   "id": "1defc7d1",
   "metadata": {},
   "outputs": [],
   "source": [
    "# Logistic Regression \n",
    "from sklearn.linear_model import LogisticRegression\n",
    "lr = LogisticRegression().fit(X_train, y_train)"
   ]
  },
  {
   "cell_type": "code",
   "execution_count": 15,
   "id": "574eba96",
   "metadata": {},
   "outputs": [],
   "source": [
    "y_predlr = lr.predict(X_test)"
   ]
  },
  {
   "cell_type": "code",
   "execution_count": 16,
   "id": "2e190a3f",
   "metadata": {},
   "outputs": [],
   "source": [
    "y_predlr_ = [1 if val >= 0.5 else 0 for val in y_predlr]"
   ]
  },
  {
   "cell_type": "code",
   "execution_count": 17,
   "id": "c33e936a",
   "metadata": {},
   "outputs": [
    {
     "name": "stdout",
     "output_type": "stream",
     "text": [
      "              precision    recall  f1-score   support\n",
      "\n",
      "           0       1.00      1.00      1.00        14\n",
      "           1       1.00      1.00      1.00        11\n",
      "\n",
      "    accuracy                           1.00        25\n",
      "   macro avg       1.00      1.00      1.00        25\n",
      "weighted avg       1.00      1.00      1.00        25\n",
      "\n",
      "[[14  0]\n",
      " [ 0 11]]\n"
     ]
    }
   ],
   "source": [
    "reports = metrics_(y_test, y_predlr_)\n",
    "reports.cr()\n",
    "reports.cm()"
   ]
  },
  {
   "cell_type": "code",
   "execution_count": 18,
   "id": "97922352",
   "metadata": {},
   "outputs": [],
   "source": [
    "from sklearn.tree import DecisionTreeClassifier\n",
    "dt = DecisionTreeClassifier().fit(X_train, y_train)"
   ]
  },
  {
   "cell_type": "code",
   "execution_count": 19,
   "id": "7b340d89",
   "metadata": {},
   "outputs": [],
   "source": [
    "ypredictdr = dt.predict(X_test)"
   ]
  },
  {
   "cell_type": "code",
   "execution_count": 20,
   "id": "0324d121",
   "metadata": {},
   "outputs": [
    {
     "name": "stdout",
     "output_type": "stream",
     "text": [
      "              precision    recall  f1-score   support\n",
      "\n",
      "           0       1.00      1.00      1.00        14\n",
      "           1       1.00      1.00      1.00        11\n",
      "\n",
      "    accuracy                           1.00        25\n",
      "   macro avg       1.00      1.00      1.00        25\n",
      "weighted avg       1.00      1.00      1.00        25\n",
      "\n",
      "[[14  0]\n",
      " [ 0 11]]\n"
     ]
    }
   ],
   "source": [
    "reports = metrics_(y_test, ypredictdr)\n",
    "reports.cr()\n",
    "reports.cm()"
   ]
  },
  {
   "cell_type": "code",
   "execution_count": 21,
   "id": "f3eacac6",
   "metadata": {},
   "outputs": [
    {
     "name": "stdout",
     "output_type": "stream",
     "text": [
      "              precision    recall  f1-score   support\n",
      "\n",
      "           0       1.00      1.00      1.00        14\n",
      "           1       1.00      1.00      1.00        11\n",
      "\n",
      "    accuracy                           1.00        25\n",
      "   macro avg       1.00      1.00      1.00        25\n",
      "weighted avg       1.00      1.00      1.00        25\n",
      "\n",
      "[[14  0]\n",
      " [ 0 11]]\n"
     ]
    }
   ],
   "source": [
    "from sklearn.ensemble import RandomForestClassifier\n",
    "rf = RandomForestClassifier().fit(X_train, y_train)\n",
    "ypredrf = rf.predict(X_test)\n",
    "reports = metrics_(y_test, ypredrf)\n",
    "reports.cr()\n",
    "reports.cm()"
   ]
  },
  {
   "cell_type": "code",
   "execution_count": 22,
   "id": "fd340645",
   "metadata": {},
   "outputs": [
    {
     "name": "stdout",
     "output_type": "stream",
     "text": [
      "              precision    recall  f1-score   support\n",
      "\n",
      "           0       1.00      1.00      1.00        14\n",
      "           1       1.00      1.00      1.00        11\n",
      "\n",
      "    accuracy                           1.00        25\n",
      "   macro avg       1.00      1.00      1.00        25\n",
      "weighted avg       1.00      1.00      1.00        25\n",
      "\n",
      "[[14  0]\n",
      " [ 0 11]]\n"
     ]
    }
   ],
   "source": [
    "from sklearn.neighbors import KNeighborsClassifier\n",
    "knn = KNeighborsClassifier().fit(X_train, y_train)\n",
    "ypredknn = knn.predict(X_test)\n",
    "reports = metrics_(y_test, ypredknn)\n",
    "reports.cr()\n",
    "reports.cm()"
   ]
  },
  {
   "cell_type": "code",
   "execution_count": 23,
   "id": "14eb4357",
   "metadata": {},
   "outputs": [
    {
     "name": "stdout",
     "output_type": "stream",
     "text": [
      "              precision    recall  f1-score   support\n",
      "\n",
      "           0       1.00      1.00      1.00        14\n",
      "           1       1.00      1.00      1.00        11\n",
      "\n",
      "    accuracy                           1.00        25\n",
      "   macro avg       1.00      1.00      1.00        25\n",
      "weighted avg       1.00      1.00      1.00        25\n",
      "\n",
      "[[14  0]\n",
      " [ 0 11]]\n"
     ]
    }
   ],
   "source": [
    "from sklearn.svm import SVC\n",
    "svm = SVC().fit(X_train, y_train)\n",
    "ypredsvm = svm.predict(X_test)\n",
    "reports = metrics_(y_test, ypredsvm)\n",
    "reports.cr()\n",
    "reports.cm()"
   ]
  },
  {
   "cell_type": "code",
   "execution_count": 24,
   "id": "50faefb2",
   "metadata": {},
   "outputs": [],
   "source": [
    "from sklearn.ensemble import VotingClassifier, BaggingClassifier\n",
    "\n",
    "algos = [('lg', LogisticRegression()), ('smv', SVC(probability=True)), \n",
    "         ('knn', KNeighborsClassifier()), ('rf', RandomForestClassifier())]"
   ]
  },
  {
   "cell_type": "code",
   "execution_count": 25,
   "id": "c1f24679",
   "metadata": {},
   "outputs": [],
   "source": [
    "vc = VotingClassifier(estimators=algos, voting='soft')"
   ]
  },
  {
   "cell_type": "code",
   "execution_count": 26,
   "id": "aee2ed97",
   "metadata": {},
   "outputs": [
    {
     "data": {
      "text/plain": [
       "VotingClassifier(estimators=[('lg', LogisticRegression()),\n",
       "                             ('smv', SVC(probability=True)),\n",
       "                             ('knn', KNeighborsClassifier()),\n",
       "                             ('rf', RandomForestClassifier())],\n",
       "                 voting='soft')"
      ]
     },
     "execution_count": 26,
     "metadata": {},
     "output_type": "execute_result"
    }
   ],
   "source": [
    "vc.fit(X_train, y_train)"
   ]
  },
  {
   "cell_type": "code",
   "execution_count": 27,
   "id": "c98a4220",
   "metadata": {},
   "outputs": [],
   "source": [
    "vcpred = vc.predict(X_test)"
   ]
  },
  {
   "cell_type": "code",
   "execution_count": 28,
   "id": "6b343c98",
   "metadata": {},
   "outputs": [
    {
     "name": "stdout",
     "output_type": "stream",
     "text": [
      "              precision    recall  f1-score   support\n",
      "\n",
      "           0       1.00      1.00      1.00        14\n",
      "           1       1.00      1.00      1.00        11\n",
      "\n",
      "    accuracy                           1.00        25\n",
      "   macro avg       1.00      1.00      1.00        25\n",
      "weighted avg       1.00      1.00      1.00        25\n",
      "\n",
      "[[14  0]\n",
      " [ 0 11]]\n"
     ]
    }
   ],
   "source": [
    "reports = metrics_(y_test, vcpred)\n",
    "reports.cr()\n",
    "reports.cm()"
   ]
  },
  {
   "cell_type": "code",
   "execution_count": 33,
   "id": "b70b0ccd",
   "metadata": {},
   "outputs": [
    {
     "name": "stdout",
     "output_type": "stream",
     "text": [
      "Requirement already satisfied: xgboost in c:\\users\\sankr\\pictures\\new folder\\lib\\site-packages (1.6.1)\n",
      "Requirement already satisfied: numpy in c:\\users\\sankr\\pictures\\new folder\\lib\\site-packages (from xgboost) (1.21.5)\n",
      "Requirement already satisfied: scipy in c:\\users\\sankr\\pictures\\new folder\\lib\\site-packages (from xgboost) (1.7.3)\n"
     ]
    }
   ],
   "source": [
    "!pip install xgboost"
   ]
  },
  {
   "cell_type": "code",
   "execution_count": 34,
   "id": "b1f39f70",
   "metadata": {},
   "outputs": [],
   "source": [
    "from xgboost import XGBClassifier\n",
    "from sklearn.ensemble import BaggingClassifier"
   ]
  },
  {
   "cell_type": "code",
   "execution_count": 36,
   "id": "d3468dd6",
   "metadata": {},
   "outputs": [
    {
     "name": "stdout",
     "output_type": "stream",
     "text": [
      "              precision    recall  f1-score   support\n",
      "\n",
      "           0       1.00      1.00      1.00        14\n",
      "           1       1.00      1.00      1.00        11\n",
      "\n",
      "    accuracy                           1.00        25\n",
      "   macro avg       1.00      1.00      1.00        25\n",
      "weighted avg       1.00      1.00      1.00        25\n",
      "\n",
      "[[14  0]\n",
      " [ 0 11]]\n"
     ]
    }
   ],
   "source": [
    "bg = BaggingClassifier(base_estimator=RandomForestClassifier()).fit(X_train, y_train)\n",
    "ypredsvm = bg.predict(X_test)\n",
    "reports = metrics_(y_test, ypredsvm)\n",
    "reports.cr()\n",
    "reports.cm()"
   ]
  },
  {
   "cell_type": "code",
   "execution_count": 37,
   "id": "8f179a8b",
   "metadata": {},
   "outputs": [
    {
     "name": "stdout",
     "output_type": "stream",
     "text": [
      "              precision    recall  f1-score   support\n",
      "\n",
      "           0       1.00      1.00      1.00        14\n",
      "           1       1.00      1.00      1.00        11\n",
      "\n",
      "    accuracy                           1.00        25\n",
      "   macro avg       1.00      1.00      1.00        25\n",
      "weighted avg       1.00      1.00      1.00        25\n",
      "\n",
      "[[14  0]\n",
      " [ 0 11]]\n"
     ]
    }
   ],
   "source": [
    "xgb = XGBClassifier().fit(X_train, y_train)\n",
    "ypredxgb = xgb.predict(X_test)\n",
    "reports = metrics_(y_test, ypredxgb)\n",
    "reports.cr()\n",
    "reports.cm()"
   ]
  },
  {
   "cell_type": "code",
   "execution_count": null,
   "id": "61e6e78e",
   "metadata": {},
   "outputs": [],
   "source": []
  }
 ],
 "metadata": {
  "kernelspec": {
   "display_name": "Python 3 (ipykernel)",
   "language": "python",
   "name": "python3"
  },
  "language_info": {
   "codemirror_mode": {
    "name": "ipython",
    "version": 3
   },
   "file_extension": ".py",
   "mimetype": "text/x-python",
   "name": "python",
   "nbconvert_exporter": "python",
   "pygments_lexer": "ipython3",
   "version": "3.9.12"
  }
 },
 "nbformat": 4,
 "nbformat_minor": 5
}
